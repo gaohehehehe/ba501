{
 "cells": [
  {
   "cell_type": "code",
   "execution_count": 14,
   "metadata": {},
   "outputs": [
    {
     "data": {
      "text/html": [
       "<button onclick=\"jQuery('.input_area').toggle(); jQuery('.prompt').toggle();\">Toggle code</button>"
      ]
     },
     "metadata": {},
     "output_type": "display_data"
    }
   ],
   "source": [
    "# Preparation\n",
    "\n",
    "from IPython.display import display\n",
    "from IPython.display import HTML\n",
    "import IPython.core.display as di # Example: di.display_html('<h3>%s:</h3>' % str, raw=True)\n",
    "di.display_html('''<button onclick=\"jQuery('.input_area').toggle(); jQuery('.prompt').toggle();\">Toggle code</button>''', raw=True)\n",
    "\n",
    "import numpy as np\n",
    "import pandas as pd\n",
    "import scipy\n",
    "import sqlite3 as sql\n",
    "import matplotlib.pyplot as plt\n",
    "import datetime\n",
    "\n",
    "%matplotlib inline"
   ]
  },
  {
   "cell_type": "markdown",
   "metadata": {},
   "source": [
    "# Class 1\n",
    "\n",
    "## Q1. Handle duplicate values"
   ]
  },
  {
   "cell_type": "code",
   "execution_count": 15,
   "metadata": {},
   "outputs": [
    {
     "name": "stdout",
     "output_type": "stream",
     "text": [
      "Created test data with 6 records where 2 of them are duplicates...\n",
      "Row count of raw data with duplicates: 6\n",
      "Used pandas library to drop duplicate items...\n",
      "Row count of raw data without duplicates: 4\n"
     ]
    }
   ],
   "source": [
    "# Create test data set\n",
    "test_data = [{'name' : 'Alice', 'age': 15, 'class':1},\n",
    "             {'name' : 'Bob', 'age': 16, 'class':2},\n",
    "             {'name' : 'Alice', 'age': 15, 'class':1},  #duplicate\n",
    "             {'name' : 'Cathy', 'age': 17, 'class':2},\n",
    "             {'name' : 'David', 'age': 18, 'class':1},\n",
    "             {'name' : 'David', 'age': 18, 'class':1}]  #duplicate\n",
    "\n",
    "data_with_dups = pd.DataFrame(test_data)\n",
    "\n",
    "print(\"Created test data with 6 records where 2 of them are duplicates...\")\n",
    "\n",
    "# Display raw data\n",
    "print(\"Row count of raw data with duplicates: \" + str(len(data_with_dups)))\n",
    "\n",
    "# Use pandas library\n",
    "print(\"Used pandas library to drop duplicate items...\")\n",
    "data_unique = data_with_dups.drop_duplicates()\n",
    "\n",
    "# Display data without dups\n",
    "print(\"Row count of raw data without duplicates: \" + str(len(data_unique)))"
   ]
  },
  {
   "cell_type": "markdown",
   "metadata": {},
   "source": [
    "## Q2. Determine request acceptance rate"
   ]
  },
  {
   "cell_type": "code",
   "execution_count": 16,
   "metadata": {},
   "outputs": [
    {
     "name": "stdout",
     "output_type": "stream",
     "text": [
      "Acceptance Rate (Python) = 33%\n",
      "Acceptance Rate (SQL) = 33%\n"
     ]
    }
   ],
   "source": [
    "# Sample data\n",
    "\n",
    "friend_request = [{'requester_id' : 'Person 1', 'time': '20170101', 'sent_to_id': 'Person 2'}, # accepted\n",
    "                  {'requester_id' : 'Person 1', 'time': '20170102', 'sent_to_id': 'Person 2'},\n",
    "                  {'requester_id' : 'Person 2', 'time': '20170105', 'sent_to_id': 'Person 3'},\n",
    "                  {'requester_id' : 'Person 2', 'time': '20170201', 'sent_to_id': 'Person 4'},\n",
    "                  {'requester_id' : 'Person 4', 'time': '20170301', 'sent_to_id': 'Person 5'},\n",
    "                  {'requester_id' : 'Person 4', 'time': '20170401', 'sent_to_id': 'Person 6'},\n",
    "                  {'requester_id' : 'Person 4', 'time': '20170501', 'sent_to_id': 'Person 7'}] # accepted \n",
    "\n",
    "request_accepted = [{'time' : '20170102', 'acceptor_id': 'Person 2', 'requester_id': 'Person 1'},\n",
    "                    {'time' : '20170502', 'acceptor_id': 'Person 7', 'requester_id': 'Person 4'}]  \n",
    "\n",
    "friend_request_df = pd.DataFrame(friend_request)[['requester_id', 'sent_to_id']].drop_duplicates()\n",
    "request_accepted_df = pd.DataFrame(request_accepted)[['acceptor_id', 'requester_id']].drop_duplicates()\n",
    "\n",
    "# Python solution\n",
    "\n",
    "new_df = pd.merge(friend_request_df, request_accepted_df, how = 'left', left_on=['requester_id', 'sent_to_id'], right_on=['requester_id', 'acceptor_id'])\n",
    "acceptance_rate_python = new_df.count()['acceptor_id'] * 100 / new_df.count()['requester_id']\n",
    "\n",
    "print(\"Acceptance Rate (Python) = \" + str(acceptance_rate_python) + \"%\")\n",
    "\n",
    "# SQL solution\n",
    "\n",
    "conn = sql.connect(\"test.db\")\n",
    "friend_request_df.to_sql('friend_request_sql_table', conn, if_exists = 'replace')\n",
    "request_accepted_df.to_sql('request_accepted_sql_table', conn, if_exists = 'replace')\n",
    "\n",
    "sql_query = \"SELECT COUNT(acceptor_id) * 100 / COUNT(*) AS acc_pct \" \\\n",
    "            \"FROM friend_request_sql_table fr \" \\\n",
    "            \"LEFT JOIN request_accepted_sql_table ra \" \\\n",
    "                \"ON fr.requester_id = ra.requester_id AND fr.sent_to_id = ra.acceptor_id\"\n",
    "\n",
    "acceptance_rate_sql = pd.read_sql(sql_query, conn)['acc_pct'].iloc[0]\n",
    "\n",
    "print(\"Acceptance Rate (SQL) = \" + str(acceptance_rate_sql) + \"%\")\n",
    "conn.close()\n"
   ]
  },
  {
   "cell_type": "markdown",
   "metadata": {},
   "source": [
    "## Q3. Company \n",
    "\n",
    "**Company name: ** Lyft\n",
    "\n",
    "**Product: ** Trasportation solution that connects supplies and demand so anyone can be anywhere anytime.\n",
    "\n",
    "**Customer: ** Drivers and customers\n",
    "\n",
    "**Revenue Source: ** A fixed percentage of all trip costs on Lyft platform\n",
    "\n",
    "**Why this company: ** \n",
    "-  Industry: \n",
    "  -  Ridesharing is an intersection of tech, transportation, and operations connecting the online world with the physical world. There are many interesting product and data problems to solve \n",
    "  -  Transportation industry is to be disrupted in the next few years - lots of opportunities\n",
    "-  Company: Lyft is growing rapidly these years and is in a sweet competitive spot at the moment\n",
    "-  Role Impact: Individuals can make huge impact at Lyft, esp. at product & data spaces\n",
    "-  Culture: Lyft cares about customers, drivers, employees, and environment and has a fun culture\n",
    "\n",
    "**5 year strategy: **\n",
    "-  Dominate domestic market share\n",
    "-  Expand international footprint \n",
    "-  Become top of mind across user segments: economic, luxury, group, enterprises\n",
    "-  Lead autonomous vehicle experience offering "
   ]
  },
  {
   "cell_type": "markdown",
   "metadata": {},
   "source": [
    "# Class 2\n",
    "\n",
    "## Q1. PrintCumulativeTimeSeries()"
   ]
  },
  {
   "cell_type": "code",
   "execution_count": 17,
   "metadata": {
    "scrolled": true
   },
   "outputs": [
    {
     "data": {
      "text/html": [
       "<div>\n",
       "<style>\n",
       "    .dataframe thead tr:only-child th {\n",
       "        text-align: right;\n",
       "    }\n",
       "\n",
       "    .dataframe thead th {\n",
       "        text-align: left;\n",
       "    }\n",
       "\n",
       "    .dataframe tbody tr th {\n",
       "        vertical-align: top;\n",
       "    }\n",
       "</style>\n",
       "<table border=\"1\" class=\"dataframe\">\n",
       "  <thead>\n",
       "    <tr style=\"text-align: right;\">\n",
       "      <th></th>\n",
       "      <th>country</th>\n",
       "      <th>date</th>\n",
       "      <th>experiment_id</th>\n",
       "      <th>order_id</th>\n",
       "      <th>spend_usd</th>\n",
       "      <th>user_id</th>\n",
       "      <th>vertical</th>\n",
       "    </tr>\n",
       "  </thead>\n",
       "  <tbody>\n",
       "    <tr>\n",
       "      <th>0</th>\n",
       "      <td>JP</td>\n",
       "      <td>2017-04-02</td>\n",
       "      <td>12624548</td>\n",
       "      <td>5813140433216629693</td>\n",
       "      <td>16.138855</td>\n",
       "      <td>5006730028073359543</td>\n",
       "      <td>ANDROID_APPS</td>\n",
       "    </tr>\n",
       "    <tr>\n",
       "      <th>1</th>\n",
       "      <td>US</td>\n",
       "      <td>2017-04-03</td>\n",
       "      <td>12624549</td>\n",
       "      <td>16333056276711034931</td>\n",
       "      <td>9.990000</td>\n",
       "      <td>5938685669571545259</td>\n",
       "      <td>ANDROID_APPS</td>\n",
       "    </tr>\n",
       "    <tr>\n",
       "      <th>2</th>\n",
       "      <td>JP</td>\n",
       "      <td>2017-04-04</td>\n",
       "      <td>12624548</td>\n",
       "      <td>11227119161741298366</td>\n",
       "      <td>19.887087</td>\n",
       "      <td>17623708458399141713</td>\n",
       "      <td>ANDROID_APPS</td>\n",
       "    </tr>\n",
       "    <tr>\n",
       "      <th>3</th>\n",
       "      <td>US</td>\n",
       "      <td>2017-04-03</td>\n",
       "      <td>12624548</td>\n",
       "      <td>11927299833124210932</td>\n",
       "      <td>19.990000</td>\n",
       "      <td>18042812344456618148</td>\n",
       "      <td>ANDROID_APPS</td>\n",
       "    </tr>\n",
       "    <tr>\n",
       "      <th>4</th>\n",
       "      <td>JP</td>\n",
       "      <td>2017-04-03</td>\n",
       "      <td>12624549</td>\n",
       "      <td>11644727017708872749</td>\n",
       "      <td>88.220093</td>\n",
       "      <td>4325104700699531031</td>\n",
       "      <td>ANDROID_APPS</td>\n",
       "    </tr>\n",
       "  </tbody>\n",
       "</table>\n",
       "</div>"
      ],
      "text/plain": [
       "  country       date  experiment_id              order_id  spend_usd  \\\n",
       "0      JP 2017-04-02       12624548   5813140433216629693  16.138855   \n",
       "1      US 2017-04-03       12624549  16333056276711034931   9.990000   \n",
       "2      JP 2017-04-04       12624548  11227119161741298366  19.887087   \n",
       "3      US 2017-04-03       12624548  11927299833124210932  19.990000   \n",
       "4      JP 2017-04-03       12624549  11644727017708872749  88.220093   \n",
       "\n",
       "                user_id      vertical  \n",
       "0   5006730028073359543  ANDROID_APPS  \n",
       "1   5938685669571545259  ANDROID_APPS  \n",
       "2  17623708458399141713  ANDROID_APPS  \n",
       "3  18042812344456618148  ANDROID_APPS  \n",
       "4   4325104700699531031  ANDROID_APPS  "
      ]
     },
     "execution_count": 17,
     "metadata": {},
     "output_type": "execute_result"
    }
   ],
   "source": [
    "# Import data\n",
    "file_location = \"/Users/gaohe/Documents/BA501/Python course codes/\"\n",
    "file_name = \"BA501_python_data.csv\"\n",
    "imported_data = pd.read_csv(file_location + file_name)\n",
    "\n",
    "# Preprocess data\n",
    "imported_data.date = pd.to_datetime(imported_data.date, format='%Y%m%d')\n",
    "\n",
    "# Preview data\n",
    "imported_data.head()"
   ]
  },
  {
   "cell_type": "code",
   "execution_count": 18,
   "metadata": {
    "collapsed": true
   },
   "outputs": [],
   "source": [
    "def GetSpendDataByDate(my_data, my_id, my_country, my_vertical):\n",
    "    data = my_data[[\"date\", \"spend_usd\"]][(my_data.experiment_id == my_id) & (my_data.country == my_country) & (my_data.vertical == my_vertical)]\n",
    "    data = data.groupby('date')['spend_usd'].sum().reset_index()\n",
    "    return(data)\n",
    "\n",
    "def GetCumSeries(my_data, my_id, my_country, my_vertical):\n",
    "    data = GetSpendDataByDate(my_data, my_id, my_country, my_vertical)\n",
    "    data['sum'] = pd.Series.expanding(data['spend_usd']).apply(sum)\n",
    "    series = pd.Series(data['sum'].values, index = data['date'])\n",
    "    return(series)\n",
    "\n",
    "def PlotSeries(index_series, experiment_series, control_series):\n",
    "    df = pd.DataFrame(\n",
    "        {\n",
    "            \"experiment\": experiment_series.tolist(),\n",
    "            \"control\": control_series.tolist()\n",
    "        },\n",
    "        index = index_series.tolist(), # a range of dates\n",
    "        columns = [\"experiment\", \"control\"]\n",
    "    )\n",
    "    \n",
    "    fig, ax = plt.subplots()\n",
    "    ax.plot(experiment_series, color=\"red\", label= \"Experiment\")\n",
    "    ax.plot(control_series, color=\"blue\", label = \"Control\")\n",
    "\n",
    "    # some tweaks\n",
    "    ax.set_title(\"Experiment (Red) vs. Control (Blue)\")\n",
    "    ax.set_ylabel(\"Total spend ($)\")\n",
    "    ax.grid(True, which=\"both\")\n",
    "    \n",
    "    # change legend\n",
    "    ax.legend(loc = 'upper left')\n",
    "    \n",
    "    # format date\n",
    "    plt.gcf().autofmt_xdate()\n",
    "\n",
    "\n",
    "def PrintCumulativeTimeSeries(experiment_ids, country, vertical):\n",
    "    # make sure our x-axis is consistent\n",
    "    date_series = imported_data.date\n",
    "    index_series = np.unique(date_series) # unique date\n",
    "    index_series = np.sort(index_series) # sort by date\n",
    "    \n",
    "    # data grouping\n",
    "    my_data = imported_data.sort_values(\"date\", ascending=True, inplace=False)\n",
    "    treatment_series = GetCumSeries(my_data, experiment_ids[0], country, vertical)\n",
    "    control_series = GetCumSeries(my_data, experiment_ids[1], country, vertical)\n",
    "    \n",
    "    # plot two series\n",
    "    PlotSeries(index_series, treatment_series, control_series)\n",
    "    \n",
    "    # print revenue uplift\n",
    "    print(\"Revenue uplift (experiment vs. control) = \" + \"{:.0%}\".format((treatment_series.iloc[-1] - control_series.iloc[-1]) / control_series.iloc[-1]))"
   ]
  },
  {
   "cell_type": "code",
   "execution_count": 19,
   "metadata": {},
   "outputs": [
    {
     "name": "stdout",
     "output_type": "stream",
     "text": [
      "Revenue uplift (experiment vs. control) = 3%\n"
     ]
    },
    {
     "data": {
      "image/png": "[encoded data removed]",
      "text/plain": [
       "<matplotlib.figure.Figure at 0x11e35ccd0>"
      ]
     },
     "metadata": {},
     "output_type": "display_data"
    }
   ],
   "source": [
    "PrintCumulativeTimeSeries([12624549,12624548], \"JP\", \"ANDROID_APPS\")"
   ]
  }
 ],
 "metadata": {
  "kernelspec": {
   "display_name": "Python 2",
   "language": "python",
   "name": "python2"
  },
  "language_info": {
   "codemirror_mode": {
    "name": "ipython",
    "version": 2
   },
   "file_extension": ".py",
   "mimetype": "text/x-python",
   "name": "python",
   "nbconvert_exporter": "python",
   "pygments_lexer": "ipython2",
   "version": "2.7.13"
  }
 },
 "nbformat": 4,
 "nbformat_minor": 2
}
